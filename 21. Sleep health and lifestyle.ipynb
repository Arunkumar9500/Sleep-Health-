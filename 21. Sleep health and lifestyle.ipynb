{
 "cells": [
  {
   "cell_type": "markdown",
   "id": "ca69af06-2182-49d7-b578-f2c56fd27fca",
   "metadata": {},
   "source": [
    "# This Is My 21. Sleep Health and Lifestyle project."
   ]
  },
  {
   "cell_type": "markdown",
   "id": "b4a978b0-0450-4245-a7e2-ab597ea2c3b8",
   "metadata": {},
   "source": [
    "# Import Required Libraries"
   ]
  },
  {
   "cell_type": "code",
   "execution_count": 1,
   "id": "675fb08f-9450-4366-8c61-cda08843f96b",
   "metadata": {},
   "outputs": [],
   "source": [
    "# Data handling\n",
    "import numpy as np\n",
    "import pandas as pd\n",
    "\n",
    "# Visualization\n",
    "import matplotlib.pyplot as plt\n",
    "import seaborn as sns\n",
    "%matplotlib inline\n",
    "\n",
    "# Preprocessing & splitting\n",
    "from sklearn.model_selection import train_test_split, GridSearchCV\n",
    "from sklearn.preprocessing import StandardScaler, LabelEncoder\n",
    "from sklearn.compose import ColumnTransformer\n",
    "from sklearn.pipeline import make_pipeline,Pipeline\n",
    "from sklearn.impute import SimpleImputer\n",
    "from sklearn.utils import resample\n",
    "\n",
    "# Evaluation metrics\n",
    "from sklearn.metrics import (accuracy_score,precision_score,recall_score,f1_score,\n",
    "    classification_report,confusion_matrix,auc,roc_auc_score, roc_curve\n",
    ")\n",
    "\n",
    "# Classifier Models\n",
    "from sklearn.naive_bayes import MultinomialNB\n",
    "from sklearn.linear_model import LogisticRegression\n",
    "from sklearn.tree import DecisionTreeClassifier\n",
    "from sklearn.ensemble import RandomForestClassifier,AdaBoostClassifier,GradientBoostingClassifier,ExtraTreesClassifier\n",
    "from sklearn.neighbors import KNeighborsClassifier\n",
    "from sklearn.svm import SVC\n",
    "from sklearn.neural_network import MLPClassifier\n",
    "from sklearn.tree import DecisionTreeClassifier\n",
    "\n",
    "from sklearn.svm import SVC\n",
    "from sklearn.neighbors import KNeighborsClassifier\n",
    "\n",
    "# XGBoost\n",
    "from xgboost import XGBClassifier\n",
    "# Warnings\n",
    "import warnings\n",
    "warnings.filterwarnings(\"ignore\")\n",
    "\n",
    "# Save the model\n",
    "import joblib"
   ]
  },
  {
   "cell_type": "markdown",
   "id": "e2063b3e-58ef-4bf9-980d-c50d57f2fe91",
   "metadata": {},
   "source": [
    "# Load Dataset"
   ]
  },
  {
   "cell_type": "code",
   "execution_count": 2,
   "id": "fc09ec8f-f951-471c-82aa-1de21efc1356",
   "metadata": {},
   "outputs": [
    {
     "data": {
      "text/html": [
       "<div>\n",
       "<style scoped>\n",
       "    .dataframe tbody tr th:only-of-type {\n",
       "        vertical-align: middle;\n",
       "    }\n",
       "\n",
       "    .dataframe tbody tr th {\n",
       "        vertical-align: top;\n",
       "    }\n",
       "\n",
       "    .dataframe thead th {\n",
       "        text-align: right;\n",
       "    }\n",
       "</style>\n",
       "<table border=\"1\" class=\"dataframe\">\n",
       "  <thead>\n",
       "    <tr style=\"text-align: right;\">\n",
       "      <th></th>\n",
       "      <th>Person ID</th>\n",
       "      <th>Gender</th>\n",
       "      <th>Age</th>\n",
       "      <th>Occupation</th>\n",
       "      <th>Sleep Duration</th>\n",
       "      <th>Quality of Sleep</th>\n",
       "      <th>Physical Activity Level</th>\n",
       "      <th>Stress Level</th>\n",
       "      <th>BMI Category</th>\n",
       "      <th>Blood Pressure</th>\n",
       "      <th>Heart Rate</th>\n",
       "      <th>Daily Steps</th>\n",
       "      <th>Sleep Disorder</th>\n",
       "    </tr>\n",
       "  </thead>\n",
       "  <tbody>\n",
       "    <tr>\n",
       "      <th>0</th>\n",
       "      <td>1</td>\n",
       "      <td>Male</td>\n",
       "      <td>27</td>\n",
       "      <td>Software Engineer</td>\n",
       "      <td>6.1</td>\n",
       "      <td>6</td>\n",
       "      <td>42</td>\n",
       "      <td>6</td>\n",
       "      <td>Overweight</td>\n",
       "      <td>126/83</td>\n",
       "      <td>77</td>\n",
       "      <td>4200</td>\n",
       "      <td>NaN</td>\n",
       "    </tr>\n",
       "    <tr>\n",
       "      <th>1</th>\n",
       "      <td>2</td>\n",
       "      <td>Male</td>\n",
       "      <td>28</td>\n",
       "      <td>Doctor</td>\n",
       "      <td>6.2</td>\n",
       "      <td>6</td>\n",
       "      <td>60</td>\n",
       "      <td>8</td>\n",
       "      <td>Normal</td>\n",
       "      <td>125/80</td>\n",
       "      <td>75</td>\n",
       "      <td>10000</td>\n",
       "      <td>NaN</td>\n",
       "    </tr>\n",
       "    <tr>\n",
       "      <th>2</th>\n",
       "      <td>3</td>\n",
       "      <td>Male</td>\n",
       "      <td>28</td>\n",
       "      <td>Doctor</td>\n",
       "      <td>6.2</td>\n",
       "      <td>6</td>\n",
       "      <td>60</td>\n",
       "      <td>8</td>\n",
       "      <td>Normal</td>\n",
       "      <td>125/80</td>\n",
       "      <td>75</td>\n",
       "      <td>10000</td>\n",
       "      <td>NaN</td>\n",
       "    </tr>\n",
       "    <tr>\n",
       "      <th>3</th>\n",
       "      <td>4</td>\n",
       "      <td>Male</td>\n",
       "      <td>28</td>\n",
       "      <td>Sales Representative</td>\n",
       "      <td>5.9</td>\n",
       "      <td>4</td>\n",
       "      <td>30</td>\n",
       "      <td>8</td>\n",
       "      <td>Obese</td>\n",
       "      <td>140/90</td>\n",
       "      <td>85</td>\n",
       "      <td>3000</td>\n",
       "      <td>Sleep Apnea</td>\n",
       "    </tr>\n",
       "    <tr>\n",
       "      <th>4</th>\n",
       "      <td>5</td>\n",
       "      <td>Male</td>\n",
       "      <td>28</td>\n",
       "      <td>Sales Representative</td>\n",
       "      <td>5.9</td>\n",
       "      <td>4</td>\n",
       "      <td>30</td>\n",
       "      <td>8</td>\n",
       "      <td>Obese</td>\n",
       "      <td>140/90</td>\n",
       "      <td>85</td>\n",
       "      <td>3000</td>\n",
       "      <td>Sleep Apnea</td>\n",
       "    </tr>\n",
       "  </tbody>\n",
       "</table>\n",
       "</div>"
      ],
      "text/plain": [
       "   Person ID Gender  Age            Occupation  Sleep Duration  \\\n",
       "0          1   Male   27     Software Engineer             6.1   \n",
       "1          2   Male   28                Doctor             6.2   \n",
       "2          3   Male   28                Doctor             6.2   \n",
       "3          4   Male   28  Sales Representative             5.9   \n",
       "4          5   Male   28  Sales Representative             5.9   \n",
       "\n",
       "   Quality of Sleep  Physical Activity Level  Stress Level BMI Category  \\\n",
       "0                 6                       42             6   Overweight   \n",
       "1                 6                       60             8       Normal   \n",
       "2                 6                       60             8       Normal   \n",
       "3                 4                       30             8        Obese   \n",
       "4                 4                       30             8        Obese   \n",
       "\n",
       "  Blood Pressure  Heart Rate  Daily Steps Sleep Disorder  \n",
       "0         126/83          77         4200            NaN  \n",
       "1         125/80          75        10000            NaN  \n",
       "2         125/80          75        10000            NaN  \n",
       "3         140/90          85         3000    Sleep Apnea  \n",
       "4         140/90          85         3000    Sleep Apnea  "
      ]
     },
     "execution_count": 2,
     "metadata": {},
     "output_type": "execute_result"
    }
   ],
   "source": [
    "data = pd.read_csv('Sleep_health_and_lifestyle_dataset.csv')\n",
    "data.head()"
   ]
  },
  {
   "cell_type": "markdown",
   "id": "f2f12e53-12e8-448e-9aea-98b322d784e4",
   "metadata": {},
   "source": [
    "# EDA"
   ]
  },
  {
   "cell_type": "code",
   "execution_count": 3,
   "id": "fc3e95cc-8efa-48ed-8ca4-040384daadd7",
   "metadata": {},
   "outputs": [
    {
     "name": "stdout",
     "output_type": "stream",
     "text": [
      "<class 'pandas.core.frame.DataFrame'>\n",
      "RangeIndex: 374 entries, 0 to 373\n",
      "Data columns (total 13 columns):\n",
      " #   Column                   Non-Null Count  Dtype  \n",
      "---  ------                   --------------  -----  \n",
      " 0   Person ID                374 non-null    int64  \n",
      " 1   Gender                   374 non-null    object \n",
      " 2   Age                      374 non-null    int64  \n",
      " 3   Occupation               374 non-null    object \n",
      " 4   Sleep Duration           374 non-null    float64\n",
      " 5   Quality of Sleep         374 non-null    int64  \n",
      " 6   Physical Activity Level  374 non-null    int64  \n",
      " 7   Stress Level             374 non-null    int64  \n",
      " 8   BMI Category             374 non-null    object \n",
      " 9   Blood Pressure           374 non-null    object \n",
      " 10  Heart Rate               374 non-null    int64  \n",
      " 11  Daily Steps              374 non-null    int64  \n",
      " 12  Sleep Disorder           155 non-null    object \n",
      "dtypes: float64(1), int64(7), object(5)\n",
      "memory usage: 38.1+ KB\n"
     ]
    }
   ],
   "source": [
    "data.info()"
   ]
  },
  {
   "cell_type": "markdown",
   "id": "a81f6236-fef6-4767-869c-81060fe85f0d",
   "metadata": {},
   "source": [
    "# Check for duplicated rows"
   ]
  },
  {
   "cell_type": "code",
   "execution_count": 4,
   "id": "8f983dc7-d618-40e2-8142-c6cb1185b55d",
   "metadata": {},
   "outputs": [
    {
     "name": "stdout",
     "output_type": "stream",
     "text": [
      " Number of duplicated rows: 0\n"
     ]
    }
   ],
   "source": [
    "print(\" Number of duplicated rows:\", data.duplicated().sum())"
   ]
  },
  {
   "cell_type": "markdown",
   "id": "bf751555-612e-4328-b2b4-3dfab43b2ad1",
   "metadata": {},
   "source": [
    "# Check for duplicated columns"
   ]
  },
  {
   "cell_type": "code",
   "execution_count": 5,
   "id": "f290c197-3892-4595-84f9-dab839bce22d",
   "metadata": {},
   "outputs": [
    {
     "name": "stdout",
     "output_type": "stream",
     "text": [
      " Number of duplicated columns: 0\n"
     ]
    }
   ],
   "source": [
    "print(\" Number of duplicated columns:\", data.columns.duplicated().sum())"
   ]
  },
  {
   "cell_type": "markdown",
   "id": "3f1fb4e8-474b-4917-9361-9909c1c9e5fe",
   "metadata": {},
   "source": [
    "# Check for object unique number"
   ]
  },
  {
   "cell_type": "code",
   "execution_count": 6,
   "id": "c420b184-7e59-4ece-a88a-2d7352296894",
   "metadata": {},
   "outputs": [
    {
     "name": "stdout",
     "output_type": "stream",
     "text": [
      "Gender\n",
      "2\n",
      "Occupation\n",
      "11\n",
      "BMI Category\n",
      "4\n",
      "Blood Pressure\n",
      "25\n",
      "Sleep Disorder\n",
      "2\n"
     ]
    }
   ],
   "source": [
    "cat = data.select_dtypes(include='object')\n",
    "for i in cat.columns:\n",
    "    print(f\"{i}\")\n",
    "    print(f\"{cat[i].nunique()}\")"
   ]
  },
  {
   "cell_type": "markdown",
   "id": "6c150b7b-edb0-4a0d-9d46-2f4c3aeeab8d",
   "metadata": {},
   "source": [
    "# Check for object unique"
   ]
  },
  {
   "cell_type": "code",
   "execution_count": 7,
   "id": "ca6fb3c2-5763-4afc-afcf-6331f2a858aa",
   "metadata": {},
   "outputs": [
    {
     "name": "stdout",
     "output_type": "stream",
     "text": [
      "Gender\n",
      "['Male' 'Female']\n",
      "Occupation\n",
      "['Software Engineer' 'Doctor' 'Sales Representative' 'Teacher' 'Nurse'\n",
      " 'Engineer' 'Accountant' 'Scientist' 'Lawyer' 'Salesperson' 'Manager']\n",
      "BMI Category\n",
      "['Overweight' 'Normal' 'Obese' 'Normal Weight']\n",
      "Blood Pressure\n",
      "['126/83' '125/80' '140/90' '120/80' '132/87' '130/86' '117/76' '118/76'\n",
      " '128/85' '131/86' '128/84' '115/75' '135/88' '129/84' '130/85' '115/78'\n",
      " '119/77' '121/79' '125/82' '135/90' '122/80' '142/92' '140/95' '139/91'\n",
      " '118/75']\n",
      "Sleep Disorder\n",
      "[nan 'Sleep Apnea' 'Insomnia']\n"
     ]
    }
   ],
   "source": [
    "for i in cat.columns:\n",
    "    print(f\"{i}\")\n",
    "    print(f\"{cat[i].unique()}\")"
   ]
  },
  {
   "cell_type": "markdown",
   "id": "4d2990d8-dab9-4964-bb6d-2798f362bd24",
   "metadata": {},
   "source": [
    "# Remove extra spaces and unify capitalization"
   ]
  },
  {
   "cell_type": "code",
   "execution_count": 8,
   "id": "fc39ad3e-c2e2-46c0-a669-f3416511908e",
   "metadata": {},
   "outputs": [],
   "source": [
    "data['BMI Category'] = data['BMI Category'].astype(str).str.strip().str.title()"
   ]
  },
  {
   "cell_type": "markdown",
   "id": "48fdb7f6-8ca1-47ff-9c35-e7c36c62199f",
   "metadata": {},
   "source": [
    "# Replace similar terms with one standard label"
   ]
  },
  {
   "cell_type": "code",
   "execution_count": 9,
   "id": "b576320a-bdf2-4da9-add9-00881f3bb69b",
   "metadata": {},
   "outputs": [],
   "source": [
    "data['BMI Category'] = data['BMI Category'].replace({\n",
    "    'Normal Weight': 'Normal'   # merge \"Normal Weight\" into \"Normal\"\n",
    "})"
   ]
  },
  {
   "cell_type": "markdown",
   "id": "3801ef99-1134-496b-b1a0-1dea7c3f5eff",
   "metadata": {},
   "source": [
    "# Check final unique values"
   ]
  },
  {
   "cell_type": "code",
   "execution_count": 10,
   "id": "5bf49941-cf2c-4186-b4ae-f7e777197aa1",
   "metadata": {},
   "outputs": [
    {
     "name": "stdout",
     "output_type": "stream",
     "text": [
      "['Overweight' 'Normal' 'Obese']\n"
     ]
    }
   ],
   "source": [
    "print(data['BMI Category'].unique())"
   ]
  },
  {
   "cell_type": "markdown",
   "id": "eddb1cec-dc7b-4ab9-aa23-28a087a50415",
   "metadata": {},
   "source": [
    "# Clean & Split Blood Pressure Column"
   ]
  },
  {
   "cell_type": "code",
   "execution_count": 11,
   "id": "a13b3ac2-fec5-4ab9-acbf-28c8c5608594",
   "metadata": {},
   "outputs": [],
   "source": [
    "import re\n",
    "def clean_bp(bp):\n",
    "    if pd.isna(bp):\n",
    "        return (np.nan, np.nan)\n",
    "    bp = str(bp).strip()\n",
    "    match = re.findall(r'(\\d+)[^\\d]+(\\d+)', bp)\n",
    "    if match:\n",
    "        return tuple(map(int, match[0]))\n",
    "    else:\n",
    "        return (np.nan, np.nan)"
   ]
  },
  {
   "cell_type": "markdown",
   "id": "4e9d8e01-1289-4572-a4a4-e44f62bff2f1",
   "metadata": {},
   "source": [
    "# Apply and create new columns"
   ]
  },
  {
   "cell_type": "code",
   "execution_count": 12,
   "id": "e0b25e17-468a-4e0f-92ce-9764191d5d81",
   "metadata": {},
   "outputs": [],
   "source": [
    "data[['Systolic_BP', 'Diastolic_BP']] = data['Blood Pressure'].apply(lambda x: pd.Series(clean_bp(x)))"
   ]
  },
  {
   "cell_type": "markdown",
   "id": "eaf5eb66-97b6-47d3-8cfd-0f2205b24607",
   "metadata": {},
   "source": [
    "# Display Final Result"
   ]
  },
  {
   "cell_type": "code",
   "execution_count": 13,
   "id": "a64650d3-a03a-46f0-a0c4-f19858c74816",
   "metadata": {},
   "outputs": [
    {
     "data": {
      "text/html": [
       "<div>\n",
       "<style scoped>\n",
       "    .dataframe tbody tr th:only-of-type {\n",
       "        vertical-align: middle;\n",
       "    }\n",
       "\n",
       "    .dataframe tbody tr th {\n",
       "        vertical-align: top;\n",
       "    }\n",
       "\n",
       "    .dataframe thead th {\n",
       "        text-align: right;\n",
       "    }\n",
       "</style>\n",
       "<table border=\"1\" class=\"dataframe\">\n",
       "  <thead>\n",
       "    <tr style=\"text-align: right;\">\n",
       "      <th></th>\n",
       "      <th>Systolic_BP</th>\n",
       "      <th>Diastolic_BP</th>\n",
       "    </tr>\n",
       "  </thead>\n",
       "  <tbody>\n",
       "    <tr>\n",
       "      <th>0</th>\n",
       "      <td>126</td>\n",
       "      <td>83</td>\n",
       "    </tr>\n",
       "    <tr>\n",
       "      <th>1</th>\n",
       "      <td>125</td>\n",
       "      <td>80</td>\n",
       "    </tr>\n",
       "    <tr>\n",
       "      <th>2</th>\n",
       "      <td>125</td>\n",
       "      <td>80</td>\n",
       "    </tr>\n",
       "    <tr>\n",
       "      <th>3</th>\n",
       "      <td>140</td>\n",
       "      <td>90</td>\n",
       "    </tr>\n",
       "    <tr>\n",
       "      <th>4</th>\n",
       "      <td>140</td>\n",
       "      <td>90</td>\n",
       "    </tr>\n",
       "  </tbody>\n",
       "</table>\n",
       "</div>"
      ],
      "text/plain": [
       "   Systolic_BP  Diastolic_BP\n",
       "0          126            83\n",
       "1          125            80\n",
       "2          125            80\n",
       "3          140            90\n",
       "4          140            90"
      ]
     },
     "execution_count": 13,
     "metadata": {},
     "output_type": "execute_result"
    }
   ],
   "source": [
    "data[['Systolic_BP', 'Diastolic_BP']].head()"
   ]
  },
  {
   "cell_type": "markdown",
   "id": "ac226abf-d602-4512-8a80-5a7c3b37ff70",
   "metadata": {},
   "source": [
    "# Drop useless columns"
   ]
  },
  {
   "cell_type": "code",
   "execution_count": 14,
   "id": "acc5231a-a45e-4174-a129-ee645399753d",
   "metadata": {},
   "outputs": [
    {
     "data": {
      "text/html": [
       "<div>\n",
       "<style scoped>\n",
       "    .dataframe tbody tr th:only-of-type {\n",
       "        vertical-align: middle;\n",
       "    }\n",
       "\n",
       "    .dataframe tbody tr th {\n",
       "        vertical-align: top;\n",
       "    }\n",
       "\n",
       "    .dataframe thead th {\n",
       "        text-align: right;\n",
       "    }\n",
       "</style>\n",
       "<table border=\"1\" class=\"dataframe\">\n",
       "  <thead>\n",
       "    <tr style=\"text-align: right;\">\n",
       "      <th></th>\n",
       "      <th>Gender</th>\n",
       "      <th>Age</th>\n",
       "      <th>Occupation</th>\n",
       "      <th>Sleep Duration</th>\n",
       "      <th>Quality of Sleep</th>\n",
       "      <th>Physical Activity Level</th>\n",
       "      <th>Stress Level</th>\n",
       "      <th>BMI Category</th>\n",
       "      <th>Heart Rate</th>\n",
       "      <th>Daily Steps</th>\n",
       "      <th>Systolic_BP</th>\n",
       "      <th>Diastolic_BP</th>\n",
       "    </tr>\n",
       "  </thead>\n",
       "  <tbody>\n",
       "    <tr>\n",
       "      <th>0</th>\n",
       "      <td>Male</td>\n",
       "      <td>27</td>\n",
       "      <td>Software Engineer</td>\n",
       "      <td>6.1</td>\n",
       "      <td>6</td>\n",
       "      <td>42</td>\n",
       "      <td>6</td>\n",
       "      <td>Overweight</td>\n",
       "      <td>77</td>\n",
       "      <td>4200</td>\n",
       "      <td>126</td>\n",
       "      <td>83</td>\n",
       "    </tr>\n",
       "    <tr>\n",
       "      <th>1</th>\n",
       "      <td>Male</td>\n",
       "      <td>28</td>\n",
       "      <td>Doctor</td>\n",
       "      <td>6.2</td>\n",
       "      <td>6</td>\n",
       "      <td>60</td>\n",
       "      <td>8</td>\n",
       "      <td>Normal</td>\n",
       "      <td>75</td>\n",
       "      <td>10000</td>\n",
       "      <td>125</td>\n",
       "      <td>80</td>\n",
       "    </tr>\n",
       "    <tr>\n",
       "      <th>2</th>\n",
       "      <td>Male</td>\n",
       "      <td>28</td>\n",
       "      <td>Doctor</td>\n",
       "      <td>6.2</td>\n",
       "      <td>6</td>\n",
       "      <td>60</td>\n",
       "      <td>8</td>\n",
       "      <td>Normal</td>\n",
       "      <td>75</td>\n",
       "      <td>10000</td>\n",
       "      <td>125</td>\n",
       "      <td>80</td>\n",
       "    </tr>\n",
       "    <tr>\n",
       "      <th>3</th>\n",
       "      <td>Male</td>\n",
       "      <td>28</td>\n",
       "      <td>Sales Representative</td>\n",
       "      <td>5.9</td>\n",
       "      <td>4</td>\n",
       "      <td>30</td>\n",
       "      <td>8</td>\n",
       "      <td>Obese</td>\n",
       "      <td>85</td>\n",
       "      <td>3000</td>\n",
       "      <td>140</td>\n",
       "      <td>90</td>\n",
       "    </tr>\n",
       "    <tr>\n",
       "      <th>4</th>\n",
       "      <td>Male</td>\n",
       "      <td>28</td>\n",
       "      <td>Sales Representative</td>\n",
       "      <td>5.9</td>\n",
       "      <td>4</td>\n",
       "      <td>30</td>\n",
       "      <td>8</td>\n",
       "      <td>Obese</td>\n",
       "      <td>85</td>\n",
       "      <td>3000</td>\n",
       "      <td>140</td>\n",
       "      <td>90</td>\n",
       "    </tr>\n",
       "  </tbody>\n",
       "</table>\n",
       "</div>"
      ],
      "text/plain": [
       "  Gender  Age            Occupation  Sleep Duration  Quality of Sleep  \\\n",
       "0   Male   27     Software Engineer             6.1                 6   \n",
       "1   Male   28                Doctor             6.2                 6   \n",
       "2   Male   28                Doctor             6.2                 6   \n",
       "3   Male   28  Sales Representative             5.9                 4   \n",
       "4   Male   28  Sales Representative             5.9                 4   \n",
       "\n",
       "   Physical Activity Level  Stress Level BMI Category  Heart Rate  \\\n",
       "0                       42             6   Overweight          77   \n",
       "1                       60             8       Normal          75   \n",
       "2                       60             8       Normal          75   \n",
       "3                       30             8        Obese          85   \n",
       "4                       30             8        Obese          85   \n",
       "\n",
       "   Daily Steps  Systolic_BP  Diastolic_BP  \n",
       "0         4200          126            83  \n",
       "1        10000          125            80  \n",
       "2        10000          125            80  \n",
       "3         3000          140            90  \n",
       "4         3000          140            90  "
      ]
     },
     "execution_count": 14,
     "metadata": {},
     "output_type": "execute_result"
    }
   ],
   "source": [
    "data.drop(['Person ID','Blood Pressure','Sleep Disorder'],axis=1,inplace=True)\n",
    "data.head()"
   ]
  },
  {
   "cell_type": "code",
   "execution_count": 15,
   "id": "af5b61cb-6520-474a-a41c-50d8494fa3ba",
   "metadata": {},
   "outputs": [
    {
     "data": {
      "text/plain": [
       "Quality of Sleep\n",
       "8    109\n",
       "6    105\n",
       "7     77\n",
       "9     71\n",
       "5      7\n",
       "4      5\n",
       "Name: count, dtype: int64"
      ]
     },
     "execution_count": 15,
     "metadata": {},
     "output_type": "execute_result"
    }
   ],
   "source": [
    "data['Quality of Sleep'].value_counts()"
   ]
  },
  {
   "cell_type": "markdown",
   "id": "1d5c8eac-a0b2-4363-b10c-32d847d7d115",
   "metadata": {},
   "source": [
    "# Convert numeric sleep scores into categorical labels"
   ]
  },
  {
   "cell_type": "code",
   "execution_count": 16,
   "id": "214222e1-b36d-42f7-a3fb-3a1ebe8a34f7",
   "metadata": {},
   "outputs": [],
   "source": [
    "def categorize_sleep_quality(score):\n",
    "    if score <= 5:\n",
    "        return 'Poor'\n",
    "    elif score <= 7:\n",
    "        return 'Average'\n",
    "    else:\n",
    "        return 'Good'\n",
    "\n",
    "data['Sleep_Quality_Class'] = data['Quality of Sleep'].apply(categorize_sleep_quality)"
   ]
  },
  {
   "cell_type": "markdown",
   "id": "b116b7cd-7857-4f62-83d4-61d43b006819",
   "metadata": {},
   "source": [
    "# Map categories to numeric codes"
   ]
  },
  {
   "cell_type": "code",
   "execution_count": 17,
   "id": "adef36c3-ecca-4962-94e9-78aafa8fe7bb",
   "metadata": {},
   "outputs": [],
   "source": [
    "data['Sleep_Quality_Class'] = data['Sleep_Quality_Class'].map({\n",
    "    'Poor': 0,\n",
    "    'Average': 1,\n",
    "    'Good': 2\n",
    "})"
   ]
  },
  {
   "cell_type": "markdown",
   "id": "26255912-fba9-43e9-90c6-b47980125ea8",
   "metadata": {},
   "source": [
    "# Check for value count"
   ]
  },
  {
   "cell_type": "code",
   "execution_count": 18,
   "id": "1add97e8-4b54-47ab-95ff-7cbf0017f09d",
   "metadata": {},
   "outputs": [
    {
     "data": {
      "text/plain": [
       "Sleep_Quality_Class\n",
       "1    182\n",
       "2    180\n",
       "0     12\n",
       "Name: count, dtype: int64"
      ]
     },
     "execution_count": 18,
     "metadata": {},
     "output_type": "execute_result"
    }
   ],
   "source": [
    "data['Sleep_Quality_Class'].value_counts()"
   ]
  },
  {
   "cell_type": "markdown",
   "id": "746179be-0ce3-42ae-bd2e-957c68c57c29",
   "metadata": {},
   "source": [
    "# Maximum value counts"
   ]
  },
  {
   "cell_type": "code",
   "execution_count": 19,
   "id": "87c66bd7-1efe-4989-b325-56d4cc52c949",
   "metadata": {},
   "outputs": [
    {
     "data": {
      "text/plain": [
       "182"
      ]
     },
     "execution_count": 19,
     "metadata": {},
     "output_type": "execute_result"
    }
   ],
   "source": [
    "max_count = data['Sleep_Quality_Class'].value_counts().max()\n",
    "max_count"
   ]
  },
  {
   "cell_type": "markdown",
   "id": "328bc88f-19eb-4baa-a591-3ba28c336080",
   "metadata": {},
   "source": [
    "# Create Balance data"
   ]
  },
  {
   "cell_type": "code",
   "execution_count": 20,
   "id": "b442af8a-dc8d-4e29-b7d4-367e141bac04",
   "metadata": {},
   "outputs": [],
   "source": [
    "upsampled_list = []\n",
    "\n",
    "for cls in data['Sleep_Quality_Class'].unique():\n",
    "    cls_data = data[data['Sleep_Quality_Class'] == cls]\n",
    "    cls_upsampled = resample(\n",
    "        cls_data,\n",
    "        replace=True,\n",
    "        n_samples=max_count,\n",
    "        random_state=42\n",
    "    )\n",
    "    upsampled_list.append(cls_upsampled)\n",
    "\n",
    "data_balanced = pd.concat(upsampled_list)\n",
    "\n",
    "data_balanced = data_balanced.sample(frac=1, random_state=42).reset_index(drop=True)"
   ]
  },
  {
   "cell_type": "markdown",
   "id": "18a379db-5c06-4733-a900-b36cc5402411",
   "metadata": {},
   "source": [
    "# After Balancing"
   ]
  },
  {
   "cell_type": "code",
   "execution_count": 21,
   "id": "fce8e4c8-6ea6-4a8d-a4bf-cf7b355ef77a",
   "metadata": {},
   "outputs": [
    {
     "name": "stdout",
     "output_type": "stream",
     "text": [
      "Sleep_Quality_Class\n",
      "0    182\n",
      "1    182\n",
      "2    182\n",
      "Name: count, dtype: int64\n"
     ]
    }
   ],
   "source": [
    "print(data_balanced['Sleep_Quality_Class'].value_counts())"
   ]
  },
  {
   "cell_type": "markdown",
   "id": "d9a78707-0d10-40c0-97b3-d77a125d6f7b",
   "metadata": {},
   "source": [
    "# Swape Variable"
   ]
  },
  {
   "cell_type": "code",
   "execution_count": 22,
   "id": "37d7eabd-fce1-4a05-b16c-8f5f220fa536",
   "metadata": {},
   "outputs": [
    {
     "name": "stdout",
     "output_type": "stream",
     "text": [
      "<class 'pandas.core.frame.DataFrame'>\n",
      "RangeIndex: 546 entries, 0 to 545\n",
      "Data columns (total 13 columns):\n",
      " #   Column                   Non-Null Count  Dtype  \n",
      "---  ------                   --------------  -----  \n",
      " 0   Gender                   546 non-null    object \n",
      " 1   Age                      546 non-null    int64  \n",
      " 2   Occupation               546 non-null    object \n",
      " 3   Sleep Duration           546 non-null    float64\n",
      " 4   Quality of Sleep         546 non-null    int64  \n",
      " 5   Physical Activity Level  546 non-null    int64  \n",
      " 6   Stress Level             546 non-null    int64  \n",
      " 7   BMI Category             546 non-null    object \n",
      " 8   Heart Rate               546 non-null    int64  \n",
      " 9   Daily Steps              546 non-null    int64  \n",
      " 10  Systolic_BP              546 non-null    int64  \n",
      " 11  Diastolic_BP             546 non-null    int64  \n",
      " 12  Sleep_Quality_Class      546 non-null    int64  \n",
      "dtypes: float64(1), int64(9), object(3)\n",
      "memory usage: 55.6+ KB\n"
     ]
    }
   ],
   "source": [
    "data = data_balanced\n",
    "data.info()"
   ]
  },
  {
   "cell_type": "markdown",
   "id": "179bf6d2-3396-42ee-85a6-a28edfa860f6",
   "metadata": {},
   "source": [
    "# Heatmap"
   ]
  },
  {
   "cell_type": "code",
   "execution_count": 23,
   "id": "a1bdc5bc-601b-4ed0-af09-b08296c3075e",
   "metadata": {},
   "outputs": [
    {
     "data": {
      "image/png": "[encoded data removed]",
      "text/plain": [
       "<Figure size 1000x600 with 2 Axes>"
      ]
     },
     "metadata": {},
     "output_type": "display_data"
    }
   ],
   "source": [
    "plt.figure(figsize=(10,6))\n",
    "sns.heatmap(data.corr(numeric_only=True), annot=True, cmap=\"coolwarm\")\n",
    "plt.title(\"Correlation Heatmap\")\n",
    "plt.show()"
   ]
  },
  {
   "cell_type": "markdown",
   "id": "3094942b-c653-44c9-b1d8-b4975e178a2c",
   "metadata": {},
   "source": [
    "# Encoding"
   ]
  },
  {
   "cell_type": "code",
   "execution_count": 24,
   "id": "1a5e37f2-a9e5-44eb-bfe4-a136436a0a09",
   "metadata": {},
   "outputs": [
    {
     "data": {
      "text/html": [
       "<div>\n",
       "<style scoped>\n",
       "    .dataframe tbody tr th:only-of-type {\n",
       "        vertical-align: middle;\n",
       "    }\n",
       "\n",
       "    .dataframe tbody tr th {\n",
       "        vertical-align: top;\n",
       "    }\n",
       "\n",
       "    .dataframe thead th {\n",
       "        text-align: right;\n",
       "    }\n",
       "</style>\n",
       "<table border=\"1\" class=\"dataframe\">\n",
       "  <thead>\n",
       "    <tr style=\"text-align: right;\">\n",
       "      <th></th>\n",
       "      <th>Gender</th>\n",
       "      <th>Age</th>\n",
       "      <th>Occupation</th>\n",
       "      <th>Sleep Duration</th>\n",
       "      <th>Quality of Sleep</th>\n",
       "      <th>Physical Activity Level</th>\n",
       "      <th>Stress Level</th>\n",
       "      <th>BMI Category</th>\n",
       "      <th>Heart Rate</th>\n",
       "      <th>Daily Steps</th>\n",
       "      <th>Systolic_BP</th>\n",
       "      <th>Diastolic_BP</th>\n",
       "      <th>Sleep_Quality_Class</th>\n",
       "    </tr>\n",
       "  </thead>\n",
       "  <tbody>\n",
       "    <tr>\n",
       "      <th>0</th>\n",
       "      <td>0</td>\n",
       "      <td>34</td>\n",
       "      <td>7</td>\n",
       "      <td>5.8</td>\n",
       "      <td>4</td>\n",
       "      <td>32</td>\n",
       "      <td>8</td>\n",
       "      <td>2</td>\n",
       "      <td>81</td>\n",
       "      <td>5200</td>\n",
       "      <td>131</td>\n",
       "      <td>86</td>\n",
       "      <td>0</td>\n",
       "    </tr>\n",
       "    <tr>\n",
       "      <th>1</th>\n",
       "      <td>1</td>\n",
       "      <td>31</td>\n",
       "      <td>1</td>\n",
       "      <td>7.8</td>\n",
       "      <td>7</td>\n",
       "      <td>75</td>\n",
       "      <td>6</td>\n",
       "      <td>0</td>\n",
       "      <td>70</td>\n",
       "      <td>8000</td>\n",
       "      <td>120</td>\n",
       "      <td>80</td>\n",
       "      <td>1</td>\n",
       "    </tr>\n",
       "  </tbody>\n",
       "</table>\n",
       "</div>"
      ],
      "text/plain": [
       "   Gender  Age  Occupation  Sleep Duration  Quality of Sleep  \\\n",
       "0       0   34           7             5.8                 4   \n",
       "1       1   31           1             7.8                 7   \n",
       "\n",
       "   Physical Activity Level  Stress Level  BMI Category  Heart Rate  \\\n",
       "0                       32             8             2          81   \n",
       "1                       75             6             0          70   \n",
       "\n",
       "   Daily Steps  Systolic_BP  Diastolic_BP  Sleep_Quality_Class  \n",
       "0         5200          131            86                    0  \n",
       "1         8000          120            80                    1  "
      ]
     },
     "execution_count": 24,
     "metadata": {},
     "output_type": "execute_result"
    }
   ],
   "source": [
    "odj_col = data.select_dtypes(include='object')\n",
    "le = LabelEncoder()\n",
    "for i in odj_col:\n",
    "    data[i] = le.fit_transform(data[i])\n",
    "\n",
    "data.head(2)"
   ]
  },
  {
   "cell_type": "markdown",
   "id": "76bfdb46-045d-4cf2-9654-b01ec220082c",
   "metadata": {},
   "source": [
    "# Scale"
   ]
  },
  {
   "cell_type": "code",
   "execution_count": 25,
   "id": "156e71f6-b30b-4491-a140-650e8e705e43",
   "metadata": {},
   "outputs": [
    {
     "data": {
      "text/html": [
       "<div>\n",
       "<style scoped>\n",
       "    .dataframe tbody tr th:only-of-type {\n",
       "        vertical-align: middle;\n",
       "    }\n",
       "\n",
       "    .dataframe tbody tr th {\n",
       "        vertical-align: top;\n",
       "    }\n",
       "\n",
       "    .dataframe thead th {\n",
       "        text-align: right;\n",
       "    }\n",
       "</style>\n",
       "<table border=\"1\" class=\"dataframe\">\n",
       "  <thead>\n",
       "    <tr style=\"text-align: right;\">\n",
       "      <th></th>\n",
       "      <th>Gender</th>\n",
       "      <th>Age</th>\n",
       "      <th>Occupation</th>\n",
       "      <th>Sleep Duration</th>\n",
       "      <th>Quality of Sleep</th>\n",
       "      <th>Physical Activity Level</th>\n",
       "      <th>Stress Level</th>\n",
       "      <th>BMI Category</th>\n",
       "      <th>Heart Rate</th>\n",
       "      <th>Daily Steps</th>\n",
       "      <th>Systolic_BP</th>\n",
       "      <th>Diastolic_BP</th>\n",
       "      <th>Sleep_Quality_Class</th>\n",
       "    </tr>\n",
       "  </thead>\n",
       "  <tbody>\n",
       "    <tr>\n",
       "      <th>0</th>\n",
       "      <td>0</td>\n",
       "      <td>34</td>\n",
       "      <td>7</td>\n",
       "      <td>5.8</td>\n",
       "      <td>4</td>\n",
       "      <td>32</td>\n",
       "      <td>8</td>\n",
       "      <td>2</td>\n",
       "      <td>81</td>\n",
       "      <td>-0.435229</td>\n",
       "      <td>131</td>\n",
       "      <td>86</td>\n",
       "      <td>0</td>\n",
       "    </tr>\n",
       "    <tr>\n",
       "      <th>1</th>\n",
       "      <td>1</td>\n",
       "      <td>31</td>\n",
       "      <td>1</td>\n",
       "      <td>7.8</td>\n",
       "      <td>7</td>\n",
       "      <td>75</td>\n",
       "      <td>6</td>\n",
       "      <td>0</td>\n",
       "      <td>70</td>\n",
       "      <td>1.076307</td>\n",
       "      <td>120</td>\n",
       "      <td>80</td>\n",
       "      <td>1</td>\n",
       "    </tr>\n",
       "  </tbody>\n",
       "</table>\n",
       "</div>"
      ],
      "text/plain": [
       "   Gender  Age  Occupation  Sleep Duration  Quality of Sleep  \\\n",
       "0       0   34           7             5.8                 4   \n",
       "1       1   31           1             7.8                 7   \n",
       "\n",
       "   Physical Activity Level  Stress Level  BMI Category  Heart Rate  \\\n",
       "0                       32             8             2          81   \n",
       "1                       75             6             0          70   \n",
       "\n",
       "   Daily Steps  Systolic_BP  Diastolic_BP  Sleep_Quality_Class  \n",
       "0    -0.435229          131            86                    0  \n",
       "1     1.076307          120            80                    1  "
      ]
     },
     "execution_count": 25,
     "metadata": {},
     "output_type": "execute_result"
    }
   ],
   "source": [
    "sc = StandardScaler()\n",
    "data[['Daily Steps']] = sc.fit_transform(data[['Daily Steps']])\n",
    "data.head(2)"
   ]
  },
  {
   "cell_type": "markdown",
   "id": "3680a755-b4d5-4345-8491-1d998aea1c5d",
   "metadata": {},
   "source": [
    "# Now define features and target"
   ]
  },
  {
   "cell_type": "code",
   "execution_count": 26,
   "id": "5df0ffae-d2b9-4eb4-b072-e06cdf3dfce0",
   "metadata": {},
   "outputs": [],
   "source": [
    "X = data.drop(['Sleep_Quality_Class', 'Quality of Sleep'], axis=1)\n",
    "y = data['Sleep_Quality_Class']\n",
    "\n",
    "X_train,X_test,y_train,y_test = train_test_split(X,y,test_size=0.2)"
   ]
  },
  {
   "cell_type": "markdown",
   "id": "6f3a1c94-b1f8-439a-85b9-ebd02a589885",
   "metadata": {},
   "source": [
    "# Preprocessing Pipeline"
   ]
  },
  {
   "cell_type": "code",
   "execution_count": 27,
   "id": "e034ed43-8524-4ffa-b182-2366a9654a6a",
   "metadata": {},
   "outputs": [],
   "source": [
    "from sklearn.pipeline import Pipeline\n",
    "preprocessor = Pipeline ([\n",
    "    ('imputer',SimpleImputer(strategy='median')),\n",
    "    ('scaler',StandardScaler())\n",
    "])"
   ]
  },
  {
   "cell_type": "markdown",
   "id": "4138b43a-a671-43d9-a358-909b8fed78b6",
   "metadata": {},
   "source": [
    "# Define models & parameter grids for classification"
   ]
  },
  {
   "cell_type": "code",
   "execution_count": 28,
   "id": "2fd05741-cec2-4ea5-8c3d-a33f6fff80a5",
   "metadata": {},
   "outputs": [
    {
     "name": "stdout",
     "output_type": "stream",
     "text": [
      " Total Models Loaded: 9\n"
     ]
    }
   ],
   "source": [
    "models = {\n",
    "    # -------------------------------\n",
    "    \"Logistic Regression\": {\n",
    "        \"model\": LogisticRegression(solver='lbfgs', max_iter=500, random_state=42),\n",
    "        \"param_grid\": {\n",
    "            \"C\": [0.1, 1, 10],\n",
    "            \"penalty\": ['l2']\n",
    "        }\n",
    "    },\n",
    "    # -------------------------------\n",
    "    \"Decision Tree\": {\n",
    "        \"model\": DecisionTreeClassifier(random_state=42),\n",
    "        \"param_grid\": {\n",
    "            \"max_depth\": [3, 5, 10, None],\n",
    "            \"min_samples_split\": [2, 5, 10],\n",
    "            \"min_samples_leaf\": [1, 2, 4]\n",
    "        }\n",
    "    },\n",
    "    # -------------------------------\n",
    "    \"Random Forest\": {\n",
    "        \"model\": RandomForestClassifier(random_state=42),\n",
    "        \"param_grid\": {\n",
    "            \"n_estimators\": [100, 200],\n",
    "            \"max_depth\": [None, 10, 20],\n",
    "            \"min_samples_split\": [2, 5],\n",
    "            \"min_samples_leaf\": [1, 2]\n",
    "        }\n",
    "    },\n",
    "    # -------------------------------\n",
    "    \"Gradient Boosting\": {\n",
    "        \"model\": GradientBoostingClassifier(random_state=42),\n",
    "        \"param_grid\": {\n",
    "            \"n_estimators\": [100, 200],\n",
    "            \"learning_rate\": [0.01, 0.1, 0.2],\n",
    "            \"max_depth\": [3, 5]\n",
    "        }\n",
    "    },\n",
    "    # -------------------------------\n",
    "    \"AdaBoost\": {\n",
    "        \"model\": AdaBoostClassifier(random_state=42),\n",
    "        \"param_grid\": {\n",
    "            \"n_estimators\": [50, 100, 200],\n",
    "            \"learning_rate\": [0.01, 0.1, 1.0]\n",
    "        }\n",
    "    },\n",
    "    # -------------------------------\n",
    "    \"Extra Trees\": {\n",
    "        \"model\": ExtraTreesClassifier(random_state=42),\n",
    "        \"param_grid\": {\n",
    "            \"n_estimators\": [100, 200],\n",
    "            \"max_depth\": [None, 10, 20],\n",
    "            \"min_samples_split\": [2, 5],\n",
    "            \"min_samples_leaf\": [1, 2]\n",
    "        }\n",
    "    },\n",
    "    # -------------------------------\n",
    "    \"K-Nearest Neighbors\": {\n",
    "        \"model\": KNeighborsClassifier(),\n",
    "        \"param_grid\": {\n",
    "            \"n_neighbors\": [3, 5, 7, 9],\n",
    "            \"weights\": [\"uniform\", \"distance\"],\n",
    "            \"p\": [1, 2]  # Manhattan (L1) or Euclidean (L2)\n",
    "        }\n",
    "    },\n",
    "    # -------------------------------\n",
    "    \"MLP Classifier\": {\n",
    "        \"model\": MLPClassifier(random_state=42),\n",
    "        \"param_grid\": {\n",
    "            \"hidden_layer_sizes\": [(50,), (100,)],\n",
    "            \"activation\": [\"relu\", \"tanh\"],\n",
    "            \"solver\": [\"adam\"],\n",
    "            \"max_iter\": [200]\n",
    "        }\n",
    "    },\n",
    "    # -------------------------------\n",
    "    \"XGBoost\": {\n",
    "        \"model\": XGBClassifier(use_label_encoder=False, eval_metric=\"logloss\", random_state=42),\n",
    "        \"param_grid\": {\n",
    "            \"n_estimators\": [100, 200],\n",
    "            \"max_depth\": [3, 5, 7],\n",
    "            \"learning_rate\": [0.01, 0.1, 0.2],\n",
    "            \"subsample\": [0.8, 1.0],\n",
    "            \"colsample_bytree\": [0.8, 1.0]\n",
    "        }\n",
    "    }\n",
    "}\n",
    "\n",
    "print(f\" Total Models Loaded: {len(models)}\")"
   ]
  },
  {
   "cell_type": "markdown",
   "id": "36b69bdd-49e4-458d-95e3-cf96e440555c",
   "metadata": {},
   "source": [
    "# Run GridSearchCV for each classification model"
   ]
  },
  {
   "cell_type": "code",
   "execution_count": 29,
   "id": "c51a5845-9892-42fc-8fa8-6da502e960db",
   "metadata": {},
   "outputs": [
    {
     "name": "stdout",
     "output_type": "stream",
     "text": [
      "\n",
      " Running GridSearchCV for Logistic Regression...\n",
      "Logistic Regression Best CV Score (Accuracy): 0.9885\n",
      "Logistic Regression Best Params: {'C': 1, 'penalty': 'l2'}\n",
      "Logistic Regression Classification Report:\n",
      "              precision    recall  f1-score   support\n",
      "\n",
      "           0       0.97      1.00      0.99        34\n",
      "           1       1.00      0.98      0.99        41\n",
      "           2       1.00      1.00      1.00        35\n",
      "\n",
      "    accuracy                           0.99       110\n",
      "   macro avg       0.99      0.99      0.99       110\n",
      "weighted avg       0.99      0.99      0.99       110\n",
      "\n",
      "[[34  0  0]\n",
      " [ 1 40  0]\n",
      " [ 0  0 35]]\n",
      "\n",
      " Running GridSearchCV for Decision Tree...\n",
      "Decision Tree Best CV Score (Accuracy): 0.9885\n",
      "Decision Tree Best Params: {'max_depth': 5, 'min_samples_leaf': 1, 'min_samples_split': 2}\n",
      "Decision Tree Classification Report:\n",
      "              precision    recall  f1-score   support\n",
      "\n",
      "           0       1.00      1.00      1.00        34\n",
      "           1       1.00      1.00      1.00        41\n",
      "           2       1.00      1.00      1.00        35\n",
      "\n",
      "    accuracy                           1.00       110\n",
      "   macro avg       1.00      1.00      1.00       110\n",
      "weighted avg       1.00      1.00      1.00       110\n",
      "\n",
      "[[34  0  0]\n",
      " [ 0 41  0]\n",
      " [ 0  0 35]]\n",
      "\n",
      " Running GridSearchCV for Random Forest...\n",
      "Random Forest Best CV Score (Accuracy): 0.9908\n",
      "Random Forest Best Params: {'max_depth': None, 'min_samples_leaf': 1, 'min_samples_split': 5, 'n_estimators': 200}\n",
      "Random Forest Classification Report:\n",
      "              precision    recall  f1-score   support\n",
      "\n",
      "           0       1.00      1.00      1.00        34\n",
      "           1       1.00      1.00      1.00        41\n",
      "           2       1.00      1.00      1.00        35\n",
      "\n",
      "    accuracy                           1.00       110\n",
      "   macro avg       1.00      1.00      1.00       110\n",
      "weighted avg       1.00      1.00      1.00       110\n",
      "\n",
      "[[34  0  0]\n",
      " [ 0 41  0]\n",
      " [ 0  0 35]]\n",
      "\n",
      " Running GridSearchCV for Gradient Boosting...\n",
      "Gradient Boosting Best CV Score (Accuracy): 0.9885\n",
      "Gradient Boosting Best Params: {'learning_rate': 0.1, 'max_depth': 3, 'n_estimators': 100}\n",
      "Gradient Boosting Classification Report:\n",
      "              precision    recall  f1-score   support\n",
      "\n",
      "           0       1.00      1.00      1.00        34\n",
      "           1       1.00      1.00      1.00        41\n",
      "           2       1.00      1.00      1.00        35\n",
      "\n",
      "    accuracy                           1.00       110\n",
      "   macro avg       1.00      1.00      1.00       110\n",
      "weighted avg       1.00      1.00      1.00       110\n",
      "\n",
      "[[34  0  0]\n",
      " [ 0 41  0]\n",
      " [ 0  0 35]]\n",
      "\n",
      " Running GridSearchCV for AdaBoost...\n",
      "AdaBoost Best CV Score (Accuracy): 0.9587\n",
      "AdaBoost Best Params: {'learning_rate': 0.01, 'n_estimators': 50}\n",
      "AdaBoost Classification Report:\n",
      "              precision    recall  f1-score   support\n",
      "\n",
      "           0       0.97      1.00      0.99        34\n",
      "           1       1.00      0.80      0.89        41\n",
      "           2       0.83      1.00      0.91        35\n",
      "\n",
      "    accuracy                           0.93       110\n",
      "   macro avg       0.93      0.93      0.93       110\n",
      "weighted avg       0.94      0.93      0.93       110\n",
      "\n",
      "[[34  0  0]\n",
      " [ 1 33  7]\n",
      " [ 0  0 35]]\n",
      "\n",
      " Running GridSearchCV for Extra Trees...\n",
      "Extra Trees Best CV Score (Accuracy): 0.9954\n",
      "Extra Trees Best Params: {'max_depth': None, 'min_samples_leaf': 1, 'min_samples_split': 2, 'n_estimators': 100}\n",
      "Extra Trees Classification Report:\n",
      "              precision    recall  f1-score   support\n",
      "\n",
      "           0       1.00      1.00      1.00        34\n",
      "           1       1.00      1.00      1.00        41\n",
      "           2       1.00      1.00      1.00        35\n",
      "\n",
      "    accuracy                           1.00       110\n",
      "   macro avg       1.00      1.00      1.00       110\n",
      "weighted avg       1.00      1.00      1.00       110\n",
      "\n",
      "[[34  0  0]\n",
      " [ 0 41  0]\n",
      " [ 0  0 35]]\n",
      "\n",
      " Running GridSearchCV for K-Nearest Neighbors...\n",
      "K-Nearest Neighbors Best CV Score (Accuracy): 0.9840\n",
      "K-Nearest Neighbors Best Params: {'n_neighbors': 3, 'p': 1, 'weights': 'distance'}\n",
      "K-Nearest Neighbors Classification Report:\n",
      "              precision    recall  f1-score   support\n",
      "\n",
      "           0       1.00      1.00      1.00        34\n",
      "           1       1.00      1.00      1.00        41\n",
      "           2       1.00      1.00      1.00        35\n",
      "\n",
      "    accuracy                           1.00       110\n",
      "   macro avg       1.00      1.00      1.00       110\n",
      "weighted avg       1.00      1.00      1.00       110\n",
      "\n",
      "[[34  0  0]\n",
      " [ 0 41  0]\n",
      " [ 0  0 35]]\n",
      "\n",
      " Running GridSearchCV for MLP Classifier...\n",
      "MLP Classifier Best CV Score (Accuracy): 0.9816\n",
      "MLP Classifier Best Params: {'activation': 'tanh', 'hidden_layer_sizes': (100,), 'max_iter': 200, 'solver': 'adam'}\n",
      "MLP Classifier Classification Report:\n",
      "              precision    recall  f1-score   support\n",
      "\n",
      "           0       0.97      1.00      0.99        34\n",
      "           1       1.00      0.98      0.99        41\n",
      "           2       1.00      1.00      1.00        35\n",
      "\n",
      "    accuracy                           0.99       110\n",
      "   macro avg       0.99      0.99      0.99       110\n",
      "weighted avg       0.99      0.99      0.99       110\n",
      "\n",
      "[[34  0  0]\n",
      " [ 1 40  0]\n",
      " [ 0  0 35]]\n",
      "\n",
      " Running GridSearchCV for XGBoost...\n",
      "XGBoost Best CV Score (Accuracy): 0.9908\n",
      "XGBoost Best Params: {'colsample_bytree': 0.8, 'learning_rate': 0.01, 'max_depth': 5, 'n_estimators': 100, 'subsample': 1.0}\n",
      "XGBoost Classification Report:\n",
      "              precision    recall  f1-score   support\n",
      "\n",
      "           0       1.00      1.00      1.00        34\n",
      "           1       1.00      1.00      1.00        41\n",
      "           2       1.00      1.00      1.00        35\n",
      "\n",
      "    accuracy                           1.00       110\n",
      "   macro avg       1.00      1.00      1.00       110\n",
      "weighted avg       1.00      1.00      1.00       110\n",
      "\n",
      "[[34  0  0]\n",
      " [ 0 41  0]\n",
      " [ 0  0 35]]\n",
      "\n",
      " Summary Results:\n",
      "                 Model                                        Best Params  \\\n",
      "1        Decision Tree  {'max_depth': 5, 'min_samples_leaf': 1, 'min_s...   \n",
      "2        Random Forest  {'max_depth': None, 'min_samples_leaf': 1, 'mi...   \n",
      "3    Gradient Boosting  {'learning_rate': 0.1, 'max_depth': 3, 'n_esti...   \n",
      "5          Extra Trees  {'max_depth': None, 'min_samples_leaf': 1, 'mi...   \n",
      "6  K-Nearest Neighbors  {'n_neighbors': 3, 'p': 1, 'weights': 'distance'}   \n",
      "8              XGBoost  {'colsample_bytree': 0.8, 'learning_rate': 0.0...   \n",
      "0  Logistic Regression                          {'C': 1, 'penalty': 'l2'}   \n",
      "7       MLP Classifier  {'activation': 'tanh', 'hidden_layer_sizes': (...   \n",
      "4             AdaBoost        {'learning_rate': 0.01, 'n_estimators': 50}   \n",
      "\n",
      "   Accuracy  Precision    Recall  F1 Score  \n",
      "1  1.000000   1.000000  1.000000  1.000000  \n",
      "2  1.000000   1.000000  1.000000  1.000000  \n",
      "3  1.000000   1.000000  1.000000  1.000000  \n",
      "5  1.000000   1.000000  1.000000  1.000000  \n",
      "6  1.000000   1.000000  1.000000  1.000000  \n",
      "8  1.000000   1.000000  1.000000  1.000000  \n",
      "0  0.990909   0.991169  0.990909  0.990919  \n",
      "7  0.990909   0.991169  0.990909  0.990919  \n",
      "4  0.927273   0.938139  0.927273  0.926300  \n",
      "\n",
      " Best Model: Extra Trees\n",
      " Best CV Score (Accuracy): 0.9954\n"
     ]
    }
   ],
   "source": [
    "results = []\n",
    "best_score = -float('inf')\n",
    "best_model = None\n",
    "best_name = None\n",
    "\n",
    "for name, mp in models.items():\n",
    "    print(f\"\\n Running GridSearchCV for {name}...\")\n",
    "    grid = GridSearchCV(mp['model'], param_grid=mp['param_grid'], cv=5, scoring='accuracy', n_jobs=-1)\n",
    "    grid.fit(X_train, y_train)\n",
    "\n",
    "    y_pred = grid.predict(X_test)\n",
    "\n",
    "    acc = accuracy_score(y_test, y_pred)\n",
    "    prec = precision_score(y_test, y_pred, average='weighted')\n",
    "    rec = recall_score(y_test, y_pred, average='weighted')\n",
    "    f1 = f1_score(y_test, y_pred, average='weighted')\n",
    "\n",
    "    results.append({\n",
    "        'Model': name,\n",
    "        'Best Params': grid.best_params_,\n",
    "        'Accuracy': acc,\n",
    "        'Precision': prec,\n",
    "        'Recall': rec,\n",
    "        'F1 Score': f1\n",
    "    })\n",
    "\n",
    "    print(f\"{name} Best CV Score (Accuracy): {grid.best_score_:.4f}\")\n",
    "    print(f\"{name} Best Params: {grid.best_params_}\")\n",
    "    print(f\"{name} Classification Report:\\n{classification_report(y_test, y_pred)}\")\n",
    "\n",
    "    # Confusion Matrix\n",
    "    cm = confusion_matrix(y_test, y_pred)\n",
    "    print(cm)\n",
    "\n",
    "    if grid.best_score_ > best_score:\n",
    "        best_score = grid.best_score_\n",
    "        best_model = grid.best_estimator_\n",
    "        best_name = name\n",
    "\n",
    "# ----------------------------------------\n",
    "# Summary Results\n",
    "# ----------------------------------------\n",
    "results_df = pd.DataFrame(results).sort_values(by=\"F1 Score\", ascending=False)\n",
    "print(\"\\n Summary Results:\")\n",
    "print(results_df)\n",
    "\n",
    "print(f\"\\n Best Model: {best_name}\")\n",
    "print(f\" Best CV Score (Accuracy): {best_score:.4f}\")"
   ]
  },
  {
   "cell_type": "markdown",
   "id": "b10cfae3-f058-476e-b859-fa3fd6d8339c",
   "metadata": {},
   "source": [
    "# confusion matrix for best model"
   ]
  },
  {
   "cell_type": "code",
   "execution_count": 30,
   "id": "2db31c45-3828-4543-8c26-6d8dc3e86d82",
   "metadata": {},
   "outputs": [
    {
     "data": {
      "image/png": "[encoded data removed]",
      "text/plain": [
       "<Figure size 600x400 with 2 Axes>"
      ]
     },
     "metadata": {},
     "output_type": "display_data"
    }
   ],
   "source": [
    "cm = confusion_matrix(y_test, y_pred)\n",
    "\n",
    "plt.figure(figsize=(6,4))\n",
    "sns.heatmap(cm, annot=True, fmt='d', cmap='Blues',\n",
    "            xticklabels=np.unique(y_test),\n",
    "            yticklabels=np.unique(y_test))\n",
    "plt.xlabel(\"Predicted\")\n",
    "plt.ylabel(\"Actual\")\n",
    "plt.title(\"Confusion Matrix\")\n",
    "plt.show()"
   ]
  },
  {
   "cell_type": "markdown",
   "id": "415cb569-9592-4bad-9a5b-f3befa2f5dd3",
   "metadata": {},
   "source": [
    "# Save the model"
   ]
  },
  {
   "cell_type": "code",
   "execution_count": 31,
   "id": "ddf25f34-c897-47e0-ae57-77238b133bb3",
   "metadata": {},
   "outputs": [
    {
     "data": {
      "text/plain": [
       "['21.Sleep Health and Lifestyle.joblib']"
      ]
     },
     "execution_count": 31,
     "metadata": {},
     "output_type": "execute_result"
    }
   ],
   "source": [
    "feature_columns = X.columns.to_list()\n",
    "joblib.dump(feature_columns,'21.Sleep Health and Lifestyle.joblib')"
   ]
  },
  {
   "cell_type": "code",
   "execution_count": 32,
   "id": "ca3b0a5e-ee88-47e2-8a72-9b9d33bdcb9d",
   "metadata": {},
   "outputs": [
    {
     "data": {
      "text/plain": [
       "['bestmodel 21.Sleep Health and Lifestyle.joblib']"
      ]
     },
     "execution_count": 32,
     "metadata": {},
     "output_type": "execute_result"
    }
   ],
   "source": [
    "joblib.dump(best_model,'bestmodel 21.Sleep Health and Lifestyle.joblib')"
   ]
  },
  {
   "cell_type": "markdown",
   "id": "1ab87b69-1a85-4e20-b1c2-92b117f9cddc",
   "metadata": {},
   "source": [
    "# If you have any suggestions, please DM me.\n",
    "# Even a small message from you can make a big impact on my career"
   ]
  },
  {
   "cell_type": "markdown",
   "id": "7bbb0889-0472-41f4-ab15-417c1bd29b61",
   "metadata": {},
   "source": [
    "#### I am Arun"
   ]
  }
 ],
 "metadata": {
  "kernelspec": {
   "display_name": "Python 3 (ipykernel)",
   "language": "python",
   "name": "python3"
  },
  "language_info": {
   "codemirror_mode": {
    "name": "ipython",
    "version": 3
   },
   "file_extension": ".py",
   "mimetype": "text/x-python",
   "name": "python",
   "nbconvert_exporter": "python",
   "pygments_lexer": "ipython3",
   "version": "3.12.3"
  }
 },
 "nbformat": 4,
 "nbformat_minor": 5
}
